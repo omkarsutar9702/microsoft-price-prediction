{
 "cells": [
  {
   "cell_type": "code",
   "execution_count": 3,
   "source": [
    "import pandas as pd\r\n",
    "import numpy as np\r\n",
    "import yfinance as yf\r\n",
    "from sklearn.linear_model import LinearRegression\r\n",
    "from sklearn.model_selection import train_test_split\r\n",
    "import matplotlib.pyplot as plt\r\n",
    "import math"
   ],
   "outputs": [],
   "metadata": {}
  },
  {
   "cell_type": "code",
   "execution_count": 4,
   "source": [
    "msft = yf.Ticker(\"MSFT\")"
   ],
   "outputs": [],
   "metadata": {}
  },
  {
   "cell_type": "code",
   "execution_count": 5,
   "source": [
    "df=msft.history(start=\"2015-01-01\" , end=\"2021-09-15\")"
   ],
   "outputs": [],
   "metadata": {}
  },
  {
   "cell_type": "code",
   "execution_count": 6,
   "source": [
    "df.info()"
   ],
   "outputs": [
    {
     "output_type": "stream",
     "name": "stdout",
     "text": [
      "<class 'pandas.core.frame.DataFrame'>\n",
      "DatetimeIndex: 1688 entries, 2014-12-31 to 2021-09-14\n",
      "Data columns (total 7 columns):\n",
      " #   Column        Non-Null Count  Dtype  \n",
      "---  ------        --------------  -----  \n",
      " 0   Open          1688 non-null   float64\n",
      " 1   High          1688 non-null   float64\n",
      " 2   Low           1688 non-null   float64\n",
      " 3   Close         1688 non-null   float64\n",
      " 4   Volume        1688 non-null   int64  \n",
      " 5   Dividends     1688 non-null   float64\n",
      " 6   Stock Splits  1688 non-null   int64  \n",
      "dtypes: float64(5), int64(2)\n",
      "memory usage: 105.5 KB\n"
     ]
    }
   ],
   "metadata": {}
  },
  {
   "cell_type": "code",
   "execution_count": 7,
   "source": [
    "df.head()"
   ],
   "outputs": [
    {
     "output_type": "execute_result",
     "data": {
      "text/html": [
       "<div>\n",
       "<style scoped>\n",
       "    .dataframe tbody tr th:only-of-type {\n",
       "        vertical-align: middle;\n",
       "    }\n",
       "\n",
       "    .dataframe tbody tr th {\n",
       "        vertical-align: top;\n",
       "    }\n",
       "\n",
       "    .dataframe thead th {\n",
       "        text-align: right;\n",
       "    }\n",
       "</style>\n",
       "<table border=\"1\" class=\"dataframe\">\n",
       "  <thead>\n",
       "    <tr style=\"text-align: right;\">\n",
       "      <th></th>\n",
       "      <th>Open</th>\n",
       "      <th>High</th>\n",
       "      <th>Low</th>\n",
       "      <th>Close</th>\n",
       "      <th>Volume</th>\n",
       "      <th>Dividends</th>\n",
       "      <th>Stock Splits</th>\n",
       "    </tr>\n",
       "    <tr>\n",
       "      <th>Date</th>\n",
       "      <th></th>\n",
       "      <th></th>\n",
       "      <th></th>\n",
       "      <th></th>\n",
       "      <th></th>\n",
       "      <th></th>\n",
       "      <th></th>\n",
       "    </tr>\n",
       "  </thead>\n",
       "  <tbody>\n",
       "    <tr>\n",
       "      <th>2014-12-31</th>\n",
       "      <td>41.242733</td>\n",
       "      <td>41.869361</td>\n",
       "      <td>40.995613</td>\n",
       "      <td>40.995613</td>\n",
       "      <td>21552500</td>\n",
       "      <td>0.0</td>\n",
       "      <td>0</td>\n",
       "    </tr>\n",
       "    <tr>\n",
       "      <th>2015-01-02</th>\n",
       "      <td>41.180947</td>\n",
       "      <td>41.851703</td>\n",
       "      <td>41.075039</td>\n",
       "      <td>41.269203</td>\n",
       "      <td>27913900</td>\n",
       "      <td>0.0</td>\n",
       "      <td>0</td>\n",
       "    </tr>\n",
       "    <tr>\n",
       "      <th>2015-01-05</th>\n",
       "      <td>40.925002</td>\n",
       "      <td>41.242730</td>\n",
       "      <td>40.819094</td>\n",
       "      <td>40.889702</td>\n",
       "      <td>39673900</td>\n",
       "      <td>0.0</td>\n",
       "      <td>0</td>\n",
       "    </tr>\n",
       "    <tr>\n",
       "      <th>2015-01-06</th>\n",
       "      <td>40.933822</td>\n",
       "      <td>41.260374</td>\n",
       "      <td>40.192459</td>\n",
       "      <td>40.289543</td>\n",
       "      <td>36447900</td>\n",
       "      <td>0.0</td>\n",
       "      <td>0</td>\n",
       "    </tr>\n",
       "    <tr>\n",
       "      <th>2015-01-07</th>\n",
       "      <td>40.580790</td>\n",
       "      <td>41.004425</td>\n",
       "      <td>40.148330</td>\n",
       "      <td>40.801434</td>\n",
       "      <td>29114100</td>\n",
       "      <td>0.0</td>\n",
       "      <td>0</td>\n",
       "    </tr>\n",
       "  </tbody>\n",
       "</table>\n",
       "</div>"
      ],
      "text/plain": [
       "                 Open       High        Low      Close    Volume  Dividends  \\\n",
       "Date                                                                          \n",
       "2014-12-31  41.242733  41.869361  40.995613  40.995613  21552500        0.0   \n",
       "2015-01-02  41.180947  41.851703  41.075039  41.269203  27913900        0.0   \n",
       "2015-01-05  40.925002  41.242730  40.819094  40.889702  39673900        0.0   \n",
       "2015-01-06  40.933822  41.260374  40.192459  40.289543  36447900        0.0   \n",
       "2015-01-07  40.580790  41.004425  40.148330  40.801434  29114100        0.0   \n",
       "\n",
       "            Stock Splits  \n",
       "Date                      \n",
       "2014-12-31             0  \n",
       "2015-01-02             0  \n",
       "2015-01-05             0  \n",
       "2015-01-06             0  \n",
       "2015-01-07             0  "
      ]
     },
     "metadata": {},
     "execution_count": 7
    }
   ],
   "metadata": {}
  },
  {
   "cell_type": "code",
   "execution_count": 8,
   "source": [
    "#create the variable for predicting n days in future \r\n",
    "future = 30\r\n",
    "#create the new column called future values\r\n",
    "df['future_values'] = df['Close'].shift(-future)\r\n",
    "df"
   ],
   "outputs": [
    {
     "output_type": "execute_result",
     "data": {
      "text/html": [
       "<div>\n",
       "<style scoped>\n",
       "    .dataframe tbody tr th:only-of-type {\n",
       "        vertical-align: middle;\n",
       "    }\n",
       "\n",
       "    .dataframe tbody tr th {\n",
       "        vertical-align: top;\n",
       "    }\n",
       "\n",
       "    .dataframe thead th {\n",
       "        text-align: right;\n",
       "    }\n",
       "</style>\n",
       "<table border=\"1\" class=\"dataframe\">\n",
       "  <thead>\n",
       "    <tr style=\"text-align: right;\">\n",
       "      <th></th>\n",
       "      <th>Open</th>\n",
       "      <th>High</th>\n",
       "      <th>Low</th>\n",
       "      <th>Close</th>\n",
       "      <th>Volume</th>\n",
       "      <th>Dividends</th>\n",
       "      <th>Stock Splits</th>\n",
       "      <th>future_values</th>\n",
       "    </tr>\n",
       "    <tr>\n",
       "      <th>Date</th>\n",
       "      <th></th>\n",
       "      <th></th>\n",
       "      <th></th>\n",
       "      <th></th>\n",
       "      <th></th>\n",
       "      <th></th>\n",
       "      <th></th>\n",
       "      <th></th>\n",
       "    </tr>\n",
       "  </thead>\n",
       "  <tbody>\n",
       "    <tr>\n",
       "      <th>2014-12-31</th>\n",
       "      <td>41.242733</td>\n",
       "      <td>41.869361</td>\n",
       "      <td>40.995613</td>\n",
       "      <td>40.995613</td>\n",
       "      <td>21552500</td>\n",
       "      <td>0.0</td>\n",
       "      <td>0</td>\n",
       "      <td>38.718571</td>\n",
       "    </tr>\n",
       "    <tr>\n",
       "      <th>2015-01-02</th>\n",
       "      <td>41.180947</td>\n",
       "      <td>41.851703</td>\n",
       "      <td>41.075039</td>\n",
       "      <td>41.269203</td>\n",
       "      <td>27913900</td>\n",
       "      <td>0.0</td>\n",
       "      <td>0</td>\n",
       "      <td>38.736347</td>\n",
       "    </tr>\n",
       "    <tr>\n",
       "      <th>2015-01-05</th>\n",
       "      <td>40.925002</td>\n",
       "      <td>41.242730</td>\n",
       "      <td>40.819094</td>\n",
       "      <td>40.889702</td>\n",
       "      <td>39673900</td>\n",
       "      <td>0.0</td>\n",
       "      <td>0</td>\n",
       "      <td>38.691895</td>\n",
       "    </tr>\n",
       "    <tr>\n",
       "      <th>2015-01-06</th>\n",
       "      <td>40.933822</td>\n",
       "      <td>41.260374</td>\n",
       "      <td>40.192459</td>\n",
       "      <td>40.289543</td>\n",
       "      <td>36447900</td>\n",
       "      <td>0.0</td>\n",
       "      <td>0</td>\n",
       "      <td>38.665241</td>\n",
       "    </tr>\n",
       "    <tr>\n",
       "      <th>2015-01-07</th>\n",
       "      <td>40.580790</td>\n",
       "      <td>41.004425</td>\n",
       "      <td>40.148330</td>\n",
       "      <td>40.801434</td>\n",
       "      <td>29114100</td>\n",
       "      <td>0.0</td>\n",
       "      <td>0</td>\n",
       "      <td>38.985218</td>\n",
       "    </tr>\n",
       "    <tr>\n",
       "      <th>...</th>\n",
       "      <td>...</td>\n",
       "      <td>...</td>\n",
       "      <td>...</td>\n",
       "      <td>...</td>\n",
       "      <td>...</td>\n",
       "      <td>...</td>\n",
       "      <td>...</td>\n",
       "      <td>...</td>\n",
       "    </tr>\n",
       "    <tr>\n",
       "      <th>2021-09-08</th>\n",
       "      <td>299.779999</td>\n",
       "      <td>300.609985</td>\n",
       "      <td>297.470001</td>\n",
       "      <td>300.209991</td>\n",
       "      <td>15046800</td>\n",
       "      <td>0.0</td>\n",
       "      <td>0</td>\n",
       "      <td>NaN</td>\n",
       "    </tr>\n",
       "    <tr>\n",
       "      <th>2021-09-09</th>\n",
       "      <td>300.820007</td>\n",
       "      <td>302.140015</td>\n",
       "      <td>297.000000</td>\n",
       "      <td>297.250000</td>\n",
       "      <td>19927000</td>\n",
       "      <td>0.0</td>\n",
       "      <td>0</td>\n",
       "      <td>NaN</td>\n",
       "    </tr>\n",
       "    <tr>\n",
       "      <th>2021-09-10</th>\n",
       "      <td>298.420013</td>\n",
       "      <td>299.920013</td>\n",
       "      <td>295.380005</td>\n",
       "      <td>295.709991</td>\n",
       "      <td>19619400</td>\n",
       "      <td>0.0</td>\n",
       "      <td>0</td>\n",
       "      <td>NaN</td>\n",
       "    </tr>\n",
       "    <tr>\n",
       "      <th>2021-09-13</th>\n",
       "      <td>297.549988</td>\n",
       "      <td>298.540009</td>\n",
       "      <td>294.079987</td>\n",
       "      <td>296.989990</td>\n",
       "      <td>23652900</td>\n",
       "      <td>0.0</td>\n",
       "      <td>0</td>\n",
       "      <td>NaN</td>\n",
       "    </tr>\n",
       "    <tr>\n",
       "      <th>2021-09-14</th>\n",
       "      <td>299.559998</td>\n",
       "      <td>301.390015</td>\n",
       "      <td>298.100006</td>\n",
       "      <td>299.790009</td>\n",
       "      <td>21561800</td>\n",
       "      <td>0.0</td>\n",
       "      <td>0</td>\n",
       "      <td>NaN</td>\n",
       "    </tr>\n",
       "  </tbody>\n",
       "</table>\n",
       "<p>1688 rows × 8 columns</p>\n",
       "</div>"
      ],
      "text/plain": [
       "                  Open        High         Low       Close    Volume  \\\n",
       "Date                                                                   \n",
       "2014-12-31   41.242733   41.869361   40.995613   40.995613  21552500   \n",
       "2015-01-02   41.180947   41.851703   41.075039   41.269203  27913900   \n",
       "2015-01-05   40.925002   41.242730   40.819094   40.889702  39673900   \n",
       "2015-01-06   40.933822   41.260374   40.192459   40.289543  36447900   \n",
       "2015-01-07   40.580790   41.004425   40.148330   40.801434  29114100   \n",
       "...                ...         ...         ...         ...       ...   \n",
       "2021-09-08  299.779999  300.609985  297.470001  300.209991  15046800   \n",
       "2021-09-09  300.820007  302.140015  297.000000  297.250000  19927000   \n",
       "2021-09-10  298.420013  299.920013  295.380005  295.709991  19619400   \n",
       "2021-09-13  297.549988  298.540009  294.079987  296.989990  23652900   \n",
       "2021-09-14  299.559998  301.390015  298.100006  299.790009  21561800   \n",
       "\n",
       "            Dividends  Stock Splits  future_values  \n",
       "Date                                                \n",
       "2014-12-31        0.0             0      38.718571  \n",
       "2015-01-02        0.0             0      38.736347  \n",
       "2015-01-05        0.0             0      38.691895  \n",
       "2015-01-06        0.0             0      38.665241  \n",
       "2015-01-07        0.0             0      38.985218  \n",
       "...               ...           ...            ...  \n",
       "2021-09-08        0.0             0            NaN  \n",
       "2021-09-09        0.0             0            NaN  \n",
       "2021-09-10        0.0             0            NaN  \n",
       "2021-09-13        0.0             0            NaN  \n",
       "2021-09-14        0.0             0            NaN  \n",
       "\n",
       "[1688 rows x 8 columns]"
      ]
     },
     "metadata": {},
     "execution_count": 8
    }
   ],
   "metadata": {}
  },
  {
   "cell_type": "code",
   "execution_count": 9,
   "source": [
    "plt.title('closing price histroy')\r\n",
    "plt.plot(df['Close'])\r\n",
    "plt.xlabel('date',fontsize=18)\r\n",
    "plt.ylabel('closing price',fontsize=18)\r\n",
    "plt.show()"
   ],
   "outputs": [
    {
     "output_type": "display_data",
     "data": {
      "image/png": "[encoded data removed]",
      "text/plain": [
       "<Figure size 432x288 with 1 Axes>"
      ]
     },
     "metadata": {
      "needs_background": "light"
     }
    }
   ],
   "metadata": {}
  },
  {
   "cell_type": "code",
   "execution_count": 10,
   "source": [
    "#create the indepandent data set \r\n",
    "x = np.array(df[['Close']])\r\n",
    "#remove last 30 values\r\n",
    "x =x[:-future]"
   ],
   "outputs": [],
   "metadata": {}
  },
  {
   "cell_type": "code",
   "execution_count": 11,
   "source": [
    "#create dependent data set\r\n",
    "y = df['future_values'].values\r\n",
    "y = y[:-future]"
   ],
   "outputs": [],
   "metadata": {}
  },
  {
   "cell_type": "code",
   "execution_count": 12,
   "source": [
    "#split the data into train and test data \r\n",
    "x_train , x_test , y_train , y_test = train_test_split(x , y , test_size=0.25 , random_state=0)"
   ],
   "outputs": [],
   "metadata": {}
  },
  {
   "cell_type": "code",
   "execution_count": 13,
   "source": [
    "#creating the model \r\n",
    "linear = LinearRegression()\r\n",
    "linear.fit(x_train, y_train)\r\n"
   ],
   "outputs": [
    {
     "output_type": "execute_result",
     "data": {
      "text/plain": [
       "LinearRegression()"
      ]
     },
     "metadata": {},
     "execution_count": 13
    }
   ],
   "metadata": {}
  },
  {
   "cell_type": "code",
   "execution_count": 14,
   "source": [
    "#test the model using score\r\n",
    "confidance = linear.score(x_test, y_test)\r\n",
    "print('accuracy of model :',confidance)"
   ],
   "outputs": [
    {
     "output_type": "stream",
     "name": "stdout",
     "text": [
      "accuracy of model : 0.9851698946561251\n"
     ]
    }
   ],
   "metadata": {}
  },
  {
   "cell_type": "code",
   "execution_count": 15,
   "source": [
    "#create the variable called x future values and set it equal to last 30 values \r\n",
    "x_future_values = np.array(df[['Close']])[-future:]\r\n",
    "#print(x_future_values)"
   ],
   "outputs": [],
   "metadata": {}
  },
  {
   "cell_type": "code",
   "execution_count": 16,
   "source": [
    "#test the model for these x values\r\n",
    "linear_model = linear.predict(x_future_values)\r\n",
    "print(linear_model)"
   ],
   "outputs": [
    {
     "output_type": "stream",
     "name": "stdout",
     "text": [
      "[300.21465258 299.5751629  302.73071591 302.66782474 301.48315008\n",
      " 299.50178987 300.03646094 303.03475398 306.22175257 308.05639877\n",
      " 306.46286742 304.58273571 310.92692209 318.8991947  319.20380976\n",
      " 317.07156846 316.4308607  313.36377845 314.02551404 318.09042457\n",
      " 316.29430802 316.2417705  315.52752944 315.51704758 314.50867333\n",
      " 314.54018302 311.43110922 309.8135369  311.15800385 314.09904734]\n"
     ]
    }
   ],
   "metadata": {}
  },
  {
   "cell_type": "code",
   "execution_count": 33,
   "source": [
    "plt.plot(linear_model)"
   ],
   "outputs": [
    {
     "output_type": "execute_result",
     "data": {
      "text/plain": [
       "[<matplotlib.lines.Line2D at 0x212aff45f40>]"
      ]
     },
     "metadata": {},
     "execution_count": 33
    },
    {
     "output_type": "display_data",
     "data": {
      "image/png": "[encoded data removed]",
      "text/plain": [
       "<Figure size 432x288 with 1 Axes>"
      ]
     },
     "metadata": {
      "needs_background": "light"
     }
    }
   ],
   "metadata": {}
  },
  {
   "cell_type": "code",
   "execution_count": 34,
   "source": [
    "!pip freeze > requirements.txt "
   ],
   "outputs": [],
   "metadata": {}
  },
  {
   "cell_type": "code",
   "execution_count": null,
   "source": [],
   "outputs": [],
   "metadata": {}
  }
 ],
 "metadata": {
  "orig_nbformat": 4,
  "language_info": {
   "name": "python",
   "version": "3.8.11",
   "mimetype": "text/x-python",
   "codemirror_mode": {
    "name": "ipython",
    "version": 3
   },
   "pygments_lexer": "ipython3",
   "nbconvert_exporter": "python",
   "file_extension": ".py"
  },
  "kernelspec": {
   "name": "python3",
   "display_name": "Python 3.8.11 64-bit ('vs code': conda)"
  },
  "interpreter": {
   "hash": "d48bf246006059dcfdc22e625c84014259c5736efff245b853f621295b702ec3"
  }
 },
 "nbformat": 4,
 "nbformat_minor": 2
}